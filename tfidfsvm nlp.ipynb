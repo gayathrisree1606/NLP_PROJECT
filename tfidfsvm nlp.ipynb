{
  "cells": [
    {
      "cell_type": "code",
      "execution_count": 1,
      "id": "1f713f89-50cb-497d-a097-a4a12fb8f1b4",
      "metadata": {
        "id": "1f713f89-50cb-497d-a097-a4a12fb8f1b4"
      },
      "outputs": [],
      "source": [
        "import pandas as pd\n",
        "from sklearn.pipeline import Pipeline\n",
        "from sklearn.feature_extraction.text import TfidfVectorizer\n",
        "from sklearn.svm import SVC\n",
        "from sklearn.metrics import accuracy_score, precision_score, recall_score, f1_score, classification_report\n",
        "from sklearn.pipeline import make_pipeline"
      ]
    },
    {
      "cell_type": "code",
      "execution_count": 2,
      "id": "f4242c62-500e-447d-b94b-0d4284e2858d",
      "metadata": {
        "colab": {
          "base_uri": "https://localhost:8080/",
          "height": 206
        },
        "id": "f4242c62-500e-447d-b94b-0d4284e2858d",
        "outputId": "68ec2a76-904c-49d8-e72a-9f088e42f911"
      },
      "outputs": [
        {
          "data": {
            "text/html": [
              "<div>\n",
              "<style scoped>\n",
              "    .dataframe tbody tr th:only-of-type {\n",
              "        vertical-align: middle;\n",
              "    }\n",
              "\n",
              "    .dataframe tbody tr th {\n",
              "        vertical-align: top;\n",
              "    }\n",
              "\n",
              "    .dataframe thead th {\n",
              "        text-align: right;\n",
              "    }\n",
              "</style>\n",
              "<table border=\"1\" class=\"dataframe\">\n",
              "  <thead>\n",
              "    <tr style=\"text-align: right;\">\n",
              "      <th></th>\n",
              "      <th>Unnamed: 0</th>\n",
              "      <th>data</th>\n",
              "      <th>Label</th>\n",
              "    </tr>\n",
              "  </thead>\n",
              "  <tbody>\n",
              "    <tr>\n",
              "      <th>0</th>\n",
              "      <td>51297</td>\n",
              "      <td>get crush guy definitely way old laugh literal...</td>\n",
              "      <td>0</td>\n",
              "    </tr>\n",
              "    <tr>\n",
              "      <th>1</th>\n",
              "      <td>24705</td>\n",
              "      <td>go to july 2018i hope 8 month enough change mind</td>\n",
              "      <td>1</td>\n",
              "    </tr>\n",
              "    <tr>\n",
              "      <th>2</th>\n",
              "      <td>185969</td>\n",
              "      <td>want live anymore 23 right thinking end life p...</td>\n",
              "      <td>1</td>\n",
              "    </tr>\n",
              "    <tr>\n",
              "      <th>3</th>\n",
              "      <td>201675</td>\n",
              "      <td>every time get period want kill already depres...</td>\n",
              "      <td>1</td>\n",
              "    </tr>\n",
              "    <tr>\n",
              "      <th>4</th>\n",
              "      <td>52701</td>\n",
              "      <td>story incomplete similar story op case dad spe...</td>\n",
              "      <td>1</td>\n",
              "    </tr>\n",
              "  </tbody>\n",
              "</table>\n",
              "</div>"
            ],
            "text/plain": [
              "   Unnamed: 0                                               data  Label\n",
              "0       51297  get crush guy definitely way old laugh literal...      0\n",
              "1       24705   go to july 2018i hope 8 month enough change mind      1\n",
              "2      185969  want live anymore 23 right thinking end life p...      1\n",
              "3      201675  every time get period want kill already depres...      1\n",
              "4       52701  story incomplete similar story op case dad spe...      1"
            ]
          },
          "execution_count": 2,
          "metadata": {},
          "output_type": "execute_result"
        }
      ],
      "source": [
        "df = pd.read_csv(r\"C:\\Users\\arjun\\OneDrive\\Desktop\\NLP\\NLP project\\Code\\dataset.csv\")\n",
        "df = df.rename(columns = {'text': 'data'}, inplace = False)\n",
        "df = df.rename(columns = {'class': 'Label'}, inplace = False)\n",
        "df.head()"
      ]
    },
    {
      "cell_type": "code",
      "execution_count": 3,
      "id": "dcfcc2e7-3d09-4d91-976f-7fbafc70f14f",
      "metadata": {
        "id": "dcfcc2e7-3d09-4d91-976f-7fbafc70f14f"
      },
      "outputs": [
        {
          "name": "stderr",
          "output_type": "stream",
          "text": [
            "<>:1: SyntaxWarning: invalid escape sequence '\\w'\n",
            "<>:1: SyntaxWarning: invalid escape sequence '\\w'\n",
            "C:\\Users\\arjun\\AppData\\Local\\Temp\\ipykernel_8640\\1740039814.py:1: SyntaxWarning: invalid escape sequence '\\w'\n",
            "  df['data'] = df['data'].str.lower().str.replace('[^\\w\\s]', '', regex=True)\n"
          ]
        }
      ],
      "source": [
        "df['data'] = df['data'].str.lower().str.replace('[^\\w\\s]', '', regex=True)\n",
        "df.dropna(subset=['data', 'Label'], inplace=True)\n"
      ]
    },
    {
      "cell_type": "code",
      "execution_count": 4,
      "id": "28a470d9-be2e-4add-9a19-f1c9e39887be",
      "metadata": {
        "colab": {
          "base_uri": "https://localhost:8080/",
          "height": 275
        },
        "id": "28a470d9-be2e-4add-9a19-f1c9e39887be",
        "outputId": "7bb8947a-3e69-433e-b5b5-563c7f06de72"
      },
      "outputs": [
        {
          "name": "stderr",
          "output_type": "stream",
          "text": [
            "[nltk_data] Downloading package punkt to\n",
            "[nltk_data]     C:\\Users\\arjun\\AppData\\Roaming\\nltk_data...\n",
            "[nltk_data]   Package punkt is already up-to-date!\n",
            "[nltk_data] Downloading package stopwords to\n",
            "[nltk_data]     C:\\Users\\arjun\\AppData\\Roaming\\nltk_data...\n",
            "[nltk_data]   Unzipping corpora\\stopwords.zip.\n"
          ]
        },
        {
          "data": {
            "text/html": [
              "<div>\n",
              "<style scoped>\n",
              "    .dataframe tbody tr th:only-of-type {\n",
              "        vertical-align: middle;\n",
              "    }\n",
              "\n",
              "    .dataframe tbody tr th {\n",
              "        vertical-align: top;\n",
              "    }\n",
              "\n",
              "    .dataframe thead th {\n",
              "        text-align: right;\n",
              "    }\n",
              "</style>\n",
              "<table border=\"1\" class=\"dataframe\">\n",
              "  <thead>\n",
              "    <tr style=\"text-align: right;\">\n",
              "      <th></th>\n",
              "      <th>Unnamed: 0</th>\n",
              "      <th>data</th>\n",
              "      <th>Label</th>\n",
              "    </tr>\n",
              "  </thead>\n",
              "  <tbody>\n",
              "    <tr>\n",
              "      <th>0</th>\n",
              "      <td>51297</td>\n",
              "      <td>get crush guy definitely way old laugh literal...</td>\n",
              "      <td>0</td>\n",
              "    </tr>\n",
              "    <tr>\n",
              "      <th>1</th>\n",
              "      <td>24705</td>\n",
              "      <td>go july 2018i hope 8 month enough change mind</td>\n",
              "      <td>1</td>\n",
              "    </tr>\n",
              "    <tr>\n",
              "      <th>2</th>\n",
              "      <td>185969</td>\n",
              "      <td>want live anymore 23 right thinking end life p...</td>\n",
              "      <td>1</td>\n",
              "    </tr>\n",
              "    <tr>\n",
              "      <th>3</th>\n",
              "      <td>201675</td>\n",
              "      <td>every time get period want kill already depres...</td>\n",
              "      <td>1</td>\n",
              "    </tr>\n",
              "    <tr>\n",
              "      <th>4</th>\n",
              "      <td>52701</td>\n",
              "      <td>story incomplete similar story op case dad spe...</td>\n",
              "      <td>1</td>\n",
              "    </tr>\n",
              "  </tbody>\n",
              "</table>\n",
              "</div>"
            ],
            "text/plain": [
              "   Unnamed: 0                                               data  Label\n",
              "0       51297  get crush guy definitely way old laugh literal...      0\n",
              "1       24705      go july 2018i hope 8 month enough change mind      1\n",
              "2      185969  want live anymore 23 right thinking end life p...      1\n",
              "3      201675  every time get period want kill already depres...      1\n",
              "4       52701  story incomplete similar story op case dad spe...      1"
            ]
          },
          "execution_count": 4,
          "metadata": {},
          "output_type": "execute_result"
        }
      ],
      "source": [
        "import nltk\n",
        "nltk.download('punkt')\n",
        "nltk.download('stopwords')\n",
        "\n",
        "stopwords = nltk.corpus.stopwords.words('english')\n",
        "stopwords.extend(['.', ',', '!', '?', ';', ':'])\n",
        "\n",
        "def remove_stopwords(text):\n",
        "  \"\"\"\n",
        "  Removes stopwords from a given text.\n",
        "\n",
        "  Args:\n",
        "    text: A string containing the text.\n",
        "\n",
        "  Returns:\n",
        "    A string with stopwords removed.\n",
        "  \"\"\"\n",
        "  tokens = nltk.word_tokenize(text)\n",
        "  filtered_tokens = [token for token in tokens if token.lower() not in stopwords]\n",
        "  return ' '.join(filtered_tokens)\n",
        "\n",
        "df['data'] = df['data'].apply(remove_stopwords)\n",
        "df.head()"
      ]
    },
    {
      "cell_type": "code",
      "execution_count": 5,
      "id": "8e6e15a2-d8fe-4b6f-9561-ed4705be161a",
      "metadata": {
        "id": "8e6e15a2-d8fe-4b6f-9561-ed4705be161a"
      },
      "outputs": [],
      "source": [
        "from sklearn.model_selection import train_test_split\n",
        "X = df.data\n",
        "y = df.Label\n",
        "#split data\n",
        "X_train, X_test, y_train, y_test = train_test_split(X, y, train_size = 0.8, random_state = 1)"
      ]
    },
    {
      "cell_type": "code",
      "execution_count": 6,
      "id": "2781de50-fff9-4ad5-96c6-4fe4c83299bd",
      "metadata": {
        "colab": {
          "base_uri": "https://localhost:8080/"
        },
        "id": "2781de50-fff9-4ad5-96c6-4fe4c83299bd",
        "outputId": "ce9c31be-7447-445a-fc8a-d16361c8a5de"
      },
      "outputs": [
        {
          "name": "stdout",
          "output_type": "stream",
          "text": [
            "Accuracy: 0.9313862772554511\n",
            "\n",
            "Classification Report:\n",
            "               precision    recall  f1-score   support\n",
            "\n",
            "           0       0.92      0.94      0.93      4935\n",
            "           1       0.94      0.92      0.93      5063\n",
            "\n",
            "    accuracy                           0.93      9998\n",
            "   macro avg       0.93      0.93      0.93      9998\n",
            "weighted avg       0.93      0.93      0.93      9998\n",
            "\n"
          ]
        }
      ],
      "source": [
        "# Split the dataset into features and target variable\n",
        "X = df['data']\n",
        "y = df['Label']\n",
        "\n",
        "pipeline = make_pipeline(TfidfVectorizer(), SVC(probability=True))\n",
        "\n",
        "\n",
        "# Split the dataset into training and testing sets\n",
        "X_train, X_test, y_train, y_test = train_test_split(X, y, test_size=0.2, random_state=42)\n",
        "\n",
        "# Create a pipeline that includes TF-IDF vectorizer and SVM\n",
        "pipeline = Pipeline([\n",
        "    ('tfidf', TfidfVectorizer(max_features=5000)),\n",
        "    ('svm', SVC(kernel='linear', C=1, random_state=42))\n",
        "])\n",
        "\n",
        "# Train the SVM model using the pipeline\n",
        "pipeline.fit(X_train, y_train)\n",
        "\n",
        "# Make predictions\n",
        "y_pred = pipeline.predict(X_test)\n",
        "\n",
        "# Evaluate the model\n",
        "accuracy = accuracy_score(y_test, y_pred)\n",
        "classification_rep = classification_report(y_test, y_pred)\n",
        "\n",
        "print(\"Accuracy:\",accuracy)\n",
        "print(\"\\nClassification Report:\\n\", classification_rep)"
      ]
    },
    {
      "cell_type": "code",
      "execution_count": 7,
      "id": "ddf91292",
      "metadata": {},
      "outputs": [
        {
          "data": {
            "text/plain": [
              "['classification_suicide.pkl']"
            ]
          },
          "execution_count": 7,
          "metadata": {},
          "output_type": "execute_result"
        }
      ],
      "source": [
        "import joblib\n",
        "joblib.dump(pipeline, 'classification_suicide.pkl')"
      ]
    }
  ],
  "metadata": {
    "colab": {
      "provenance": []
    },
    "kernelspec": {
      "display_name": "Python 3 (ipykernel)",
      "language": "python",
      "name": "python3"
    },
    "language_info": {
      "codemirror_mode": {
        "name": "ipython",
        "version": 3
      },
      "file_extension": ".py",
      "mimetype": "text/x-python",
      "name": "python",
      "nbconvert_exporter": "python",
      "pygments_lexer": "ipython3",
      "version": "3.12.2"
    }
  },
  "nbformat": 4,
  "nbformat_minor": 5
}
